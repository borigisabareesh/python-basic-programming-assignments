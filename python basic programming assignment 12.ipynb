{
 "cells": [
  {
   "cell_type": "markdown",
   "metadata": {},
   "source": [
    "<b>1.\tWrite a Python program to Extract Unique values dictionary values?"
   ]
  },
  {
   "cell_type": "code",
   "execution_count": 17,
   "metadata": {},
   "outputs": [
    {
     "name": "stdout",
     "output_type": "stream",
     "text": [
      "enter no of values=6\n",
      "enter key=ab\n",
      "enter value=1\n",
      "enter key=ba\n",
      "enter value=1\n",
      "enter key=sa\n",
      "enter value=2\n",
      "enter key=sb\n",
      "enter value=2\n",
      "enter key=sri\n",
      "enter value=3\n",
      "enter key=sub\n",
      "enter value=6\n",
      "original values in dictionary= dict_values([1, 1, 2, 2, 3, 6])\n",
      "unique dictionary values= [1, 2, 3, 6]\n"
     ]
    }
   ],
   "source": [
    "d={}\n",
    "n=int(input(\"enter no of values=\"))\n",
    "for i in range(n):\n",
    "    k=input(\"enter key=\")\n",
    "    v=int(input(\"enter value=\"))\n",
    "    d[k]=v\n",
    "print(\"original values in dictionary=\",d.values())\n",
    "s=set(d.values())\n",
    "s=list(s)\n",
    "print(\"unique dictionary values=\",s)"
   ]
  },
  {
   "cell_type": "markdown",
   "metadata": {},
   "source": [
    "<b>2.\tWrite a Python program to find the sum of all items in a dictionary?"
   ]
  },
  {
   "cell_type": "code",
   "execution_count": 18,
   "metadata": {},
   "outputs": [
    {
     "name": "stdout",
     "output_type": "stream",
     "text": [
      "enter no of values=6\n",
      "enter key=sa\n",
      "enter value=2\n",
      "enter key=sb\n",
      "enter value=6\n",
      "enter key=fb\n",
      "enter value=2\n",
      "enter key=gh\n",
      "enter value=2\n",
      "enter key=gb\n",
      "enter value=4\n",
      "enter key=dv\n",
      "enter value=3\n",
      "original values in dictionary= dict_values([2, 6, 2, 2, 4, 3])\n",
      "sum of all values in dictionar= 19\n"
     ]
    }
   ],
   "source": [
    "d={}\n",
    "n=int(input(\"enter no of values=\"))\n",
    "for i in range(n):\n",
    "    k=input(\"enter key=\")\n",
    "    v=int(input(\"enter value=\"))\n",
    "    d[k]=v\n",
    "print(\"original values in dictionary=\",d.values())\n",
    "s=0\n",
    "for i in d.values():\n",
    "    s=s+i\n",
    "print(\"sum of all values in dictionar=\",s)"
   ]
  },
  {
   "cell_type": "markdown",
   "metadata": {},
   "source": [
    "<b>3.\tWrite a Python program to Merging two Dictionaries?"
   ]
  },
  {
   "cell_type": "code",
   "execution_count": 27,
   "metadata": {},
   "outputs": [
    {
     "name": "stdout",
     "output_type": "stream",
     "text": [
      "{'sa': 2, 'sb': 6, 'fb': 2, 'gh': 2, 'gb': 4, 'dv': 3, 'saba': 1, 'sri': 3}\n"
     ]
    }
   ],
   "source": [
    "d={'sa': 2, 'sb': 6, 'fb': 2, 'gh': 2, 'gb': 4, 'dv': 3}\n",
    "a={'saba': 1, 'sri': 3}\n",
    "d.update(a)\n",
    "print(d)"
   ]
  },
  {
   "cell_type": "markdown",
   "metadata": {},
   "source": [
    "<b>4.\tWrite a Python program to convert key-values list to flat dictionary?"
   ]
  },
  {
   "cell_type": "code",
   "execution_count": 39,
   "metadata": {},
   "outputs": [
    {
     "name": "stdout",
     "output_type": "stream",
     "text": [
      "key value list= {'month': ['jan', 'feb', 'mar', 'apr', 'jun', 'jul'], 'num': [1, 2, 3, 4, 5, 6, 7]}\n",
      "flat dictionar= {'jan': 1, 'feb': 2, 'mar': 3, 'apr': 4, 'jun': 5, 'jul': 6}\n"
     ]
    }
   ],
   "source": [
    "kvlist={'month':['jan','feb','mar','apr','jun','jul'],'num':[1,2,3,4,5,6,7]}\n",
    "print(\"key value list=\",kvlist)\n",
    "flt=dict(zip(kvlist['month'],kvlist['num']))\n",
    "print(\"flat dictionar=\",flt)"
   ]
  },
  {
   "cell_type": "markdown",
   "metadata": {},
   "source": [
    "<b>5.\tWrite a Python program to insertion at the beginning in OrderedDict?"
   ]
  },
  {
   "cell_type": "code",
   "execution_count": 73,
   "metadata": {},
   "outputs": [],
   "source": [
    "def ordereddict(a):\n",
    "    l=list(a.values())\n",
    "    m=list(a.keys())\n",
    "    if type(l[0])==int:\n",
    "        j=dict(zip(l,m))\n",
    "        o=list(j.keys())\n",
    "        o.sort(reverse=True)\n",
    "        od={}\n",
    "        for i in o:\n",
    "            od[i]=j[i]\n",
    "        odn={}\n",
    "        for i in od.values():\n",
    "            odn[i]=a[i]\n",
    "        return(odn)\n",
    "    else:\n",
    "        m.sort(reverse=True)\n",
    "        od={}\n",
    "        for i in m:\n",
    "            od[i]=a[i]\n",
    "        return(od)\n",
    "        \n",
    "    "
   ]
  },
  {
   "cell_type": "code",
   "execution_count": 75,
   "metadata": {},
   "outputs": [
    {
     "data": {
      "text/plain": [
       "{'jul': 6, 'jun': 5, 'apr': 4, 'mar': 3, 'feb': 2, 'jan': 1}"
      ]
     },
     "execution_count": 75,
     "metadata": {},
     "output_type": "execute_result"
    }
   ],
   "source": [
    "flt={'jan': 1, 'feb': 2, 'mar': 3, 'apr': 4, 'jun': 5, 'jul': 6}\n",
    "ordereddict(flt)"
   ]
  },
  {
   "cell_type": "code",
   "execution_count": 81,
   "metadata": {},
   "outputs": [
    {
     "name": "stdout",
     "output_type": "stream",
     "text": [
      "sorted array= {'jul': 6, 'jun': 5, 'apr': 4, 'mar': 3, 'feb': 2, 'jan': 1}\n",
      "insertion array= {1: 'p', 2: 'y'}\n",
      "final array= {1: 'p', 2: 'y', 'jul': 6, 'jun': 5, 'apr': 4, 'mar': 3, 'feb': 2, 'jan': 1}\n"
     ]
    }
   ],
   "source": [
    "print(\"sorted array=\",ordereddict(flt))\n",
    "so=ordereddict(flt)\n",
    "#inserting this array at begining in sorted array\n",
    "flto={1:'p',2:'y'}\n",
    "print(\"insertion array=\",flto)\n",
    "flto.update(so)\n",
    "print(\"final array=\",flto)\n"
   ]
  },
  {
   "cell_type": "markdown",
   "metadata": {},
   "source": [
    "<b>6.\tWrite a Python program to check order of character in string using OrderedDict()?"
   ]
  },
  {
   "cell_type": "code",
   "execution_count": 132,
   "metadata": {},
   "outputs": [
    {
     "name": "stdout",
     "output_type": "stream",
     "text": [
      "enter string=abcdefavc\n",
      "enter pattern=ab\n",
      "true\n"
     ]
    }
   ],
   "source": [
    "from collections import OrderedDict\n",
    "n=input(\"enter string=\")\n",
    "p=input(\"enter pattern=\")\n",
    "def checkorder(a,b):\n",
    "    d=OrderedDict()\n",
    "    d=d.fromkeys(a)\n",
    "    l=0\n",
    "    \n",
    "    for i,j in d.items():\n",
    "        \n",
    "        if i==b[l]:\n",
    "            \n",
    "            \n",
    "            l=l+1\n",
    "        \n",
    "        if l==(len(b)):\n",
    "            \n",
    "            return 'true'\n",
    "        \n",
    "    return 'false'\n",
    "print(checkorder(n,p))\n"
   ]
  },
  {
   "cell_type": "markdown",
   "metadata": {},
   "source": [
    "<b>7.\tWrite a Python program to sort Python Dictionaries by Key or Value?"
   ]
  },
  {
   "cell_type": "code",
   "execution_count": 82,
   "metadata": {},
   "outputs": [],
   "source": [
    "def ordereddict(a):\n",
    "    l=list(a.values())\n",
    "    m=list(a.keys())\n",
    "    if type(l[0])==int:\n",
    "        j=dict(zip(l,m))\n",
    "        o=list(j.keys())\n",
    "        o.sort(reverse=True)\n",
    "        od={}\n",
    "        for i in o:\n",
    "            od[i]=j[i]\n",
    "        odn={}\n",
    "        for i in od.values():\n",
    "            odn[i]=a[i]\n",
    "        return(odn)\n",
    "    else:\n",
    "        m.sort(reverse=True)\n",
    "        od={}\n",
    "        for i in m:\n",
    "            od[i]=a[i]\n",
    "        return(od)"
   ]
  },
  {
   "cell_type": "code",
   "execution_count": 83,
   "metadata": {},
   "outputs": [
    {
     "data": {
      "text/plain": [
       "{'jul': 6, 'jun': 5, 'apr': 4, 'mar': 3, 'feb': 2, 'jan': 1}"
      ]
     },
     "execution_count": 83,
     "metadata": {},
     "output_type": "execute_result"
    }
   ],
   "source": [
    "flt={'jan': 1, 'feb': 2, 'mar': 3, 'apr': 4, 'jun': 5, 'jul': 6}\n",
    "ordereddict(flt)"
   ]
  },
  {
   "cell_type": "code",
   "execution_count": 84,
   "metadata": {},
   "outputs": [
    {
     "data": {
      "text/plain": [
       "{2: 'y', 1: 'p'}"
      ]
     },
     "execution_count": 84,
     "metadata": {},
     "output_type": "execute_result"
    }
   ],
   "source": [
    "flto={1:'p',2:'y'}\n",
    "ordereddict(flto)"
   ]
  },
  {
   "cell_type": "code",
   "execution_count": null,
   "metadata": {},
   "outputs": [],
   "source": [
    "\n"
   ]
  },
  {
   "cell_type": "code",
   "execution_count": null,
   "metadata": {},
   "outputs": [],
   "source": []
  }
 ],
 "metadata": {
  "kernelspec": {
   "display_name": "Python 3",
   "language": "python",
   "name": "python3"
  },
  "language_info": {
   "codemirror_mode": {
    "name": "ipython",
    "version": 3
   },
   "file_extension": ".py",
   "mimetype": "text/x-python",
   "name": "python",
   "nbconvert_exporter": "python",
   "pygments_lexer": "ipython3",
   "version": "3.8.3"
  }
 },
 "nbformat": 4,
 "nbformat_minor": 4
}
