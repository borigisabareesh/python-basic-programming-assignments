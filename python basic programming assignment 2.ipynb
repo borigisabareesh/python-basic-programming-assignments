{
 "cells": [
  {
   "cell_type": "markdown",
   "metadata": {},
   "source": [
    "<b>1.\tWrite a Python program to convert kilometers to miles?"
   ]
  },
  {
   "cell_type": "code",
   "execution_count": 2,
   "metadata": {},
   "outputs": [
    {
     "name": "stdout",
     "output_type": "stream",
     "text": [
      "enter kilometers=8\n",
      "the no of miles = 4.970968\n"
     ]
    }
   ],
   "source": [
    "a=float(input(\"enter kilometers=\"))\n",
    "print(\"the no of miles =\",a*0.621371)"
   ]
  },
  {
   "cell_type": "markdown",
   "metadata": {},
   "source": [
    "<b>2.\tWrite a Python program to convert Celsius to Fahrenheit?"
   ]
  },
  {
   "cell_type": "code",
   "execution_count": 4,
   "metadata": {},
   "outputs": [
    {
     "name": "stdout",
     "output_type": "stream",
     "text": [
      "enter celsius value=333.6\n",
      "fahrenheit value= 632.48\n"
     ]
    }
   ],
   "source": [
    "a=float(input(\"enter celsius value=\"))\n",
    "print(\"fahrenheit value=\",(a*(9/5))+32)"
   ]
  },
  {
   "cell_type": "markdown",
   "metadata": {},
   "source": [
    "<b>3.\tWrite a Python program to display calendar?"
   ]
  },
  {
   "cell_type": "code",
   "execution_count": 6,
   "metadata": {},
   "outputs": [
    {
     "name": "stdout",
     "output_type": "stream",
     "text": [
      "enter year=2021\n",
      "enter month=3\n",
      "     March 2021\n",
      "Mo Tu We Th Fr Sa Su\n",
      " 1  2  3  4  5  6  7\n",
      " 8  9 10 11 12 13 14\n",
      "15 16 17 18 19 20 21\n",
      "22 23 24 25 26 27 28\n",
      "29 30 31\n",
      "\n"
     ]
    }
   ],
   "source": [
    "import calendar\n",
    "year=int(input(\"enter year=\"))\n",
    "month=int(input(\"enter month=\"))\n",
    "print(calendar.month(year,month))"
   ]
  },
  {
   "cell_type": "markdown",
   "metadata": {},
   "source": [
    "<b>4.\tWrite a Python program to solve quadratic equation?"
   ]
  },
  {
   "cell_type": "code",
   "execution_count": 33,
   "metadata": {},
   "outputs": [
    {
     "name": "stdout",
     "output_type": "stream",
     "text": [
      "enter coefficient value of x^2=5\n",
      "enter coefficient value of x=2\n",
      "enter coefficient value of c=1\n",
      "(-0.2+0.4j) (-0.2-0.4j)\n"
     ]
    }
   ],
   "source": [
    "import cmath\n",
    "a=float(input(\"enter coefficient value of x^2=\"))\n",
    "b=float(input(\"enter coefficient value of x=\"))\n",
    "c=float(input(\"enter coefficient value of c=\"))\n",
    "x1=(-b+(cmath.sqrt((b*b)-(4*a*c))))/(2*a)\n",
    "x2=(-b-(cmath.sqrt((b*b)-(4*a*c))))/(2*a)\n",
    "\n",
    "\n",
    "print(x1,x2)\n",
    "\n"
   ]
  },
  {
   "cell_type": "markdown",
   "metadata": {},
   "source": [
    "<b>5.\tWrite a Python program to swap two variables without temp variable?"
   ]
  },
  {
   "cell_type": "code",
   "execution_count": 18,
   "metadata": {},
   "outputs": [
    {
     "name": "stdout",
     "output_type": "stream",
     "text": [
      "enter first value=3\n",
      "enter second value=2\n",
      "values before swap are 3 and 2\n",
      "values after swap are 2 and 3\n"
     ]
    }
   ],
   "source": [
    "a=int(input(\"enter first value=\"))\n",
    "b=int(input(\"enter second value=\"))\n",
    "print(\"values before swap are {0} and {1}\".format(a,b))\n",
    "a=a+b\n",
    "b=a-b\n",
    "a=a-b\n",
    "print(\"values after swap are {0} and {1}\".format(a,b))\n",
    "\n"
   ]
  },
  {
   "cell_type": "code",
   "execution_count": null,
   "metadata": {},
   "outputs": [],
   "source": []
  }
 ],
 "metadata": {
  "kernelspec": {
   "display_name": "Python 3",
   "language": "python",
   "name": "python3"
  },
  "language_info": {
   "codemirror_mode": {
    "name": "ipython",
    "version": 3
   },
   "file_extension": ".py",
   "mimetype": "text/x-python",
   "name": "python",
   "nbconvert_exporter": "python",
   "pygments_lexer": "ipython3",
   "version": "3.8.3"
  }
 },
 "nbformat": 4,
 "nbformat_minor": 4
}
