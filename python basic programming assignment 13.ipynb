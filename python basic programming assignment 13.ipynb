{
 "cells": [
  {
   "cell_type": "markdown",
   "metadata": {},
   "source": [
    "1)Write a program that calculates and prints the value according to the given formula:\n",
    "Q = Square root of [(2 * C * D)/H]\n",
    "Following are the fixed values of C and H:\n",
    "C is 50. H is 30.\n",
    "D is the variable whose values should be input to your program in a comma-separated\n",
    "sequence.\n"
   ]
  },
  {
   "cell_type": "code",
   "execution_count": 5,
   "metadata": {},
   "outputs": [],
   "source": [
    "def frm(l):\n",
    "    import math\n",
    "    m=[]\n",
    "    for i in l:\n",
    "        m.append(math.sqrt((2*50*int(i))//30))\n",
    "    return m\n",
    "        "
   ]
  },
  {
   "cell_type": "code",
   "execution_count": 6,
   "metadata": {},
   "outputs": [
    {
     "name": "stdout",
     "output_type": "stream",
     "text": [
      "enter numbers100,150,180\n"
     ]
    },
    {
     "data": {
      "text/plain": [
       "[18.24828759089466, 22.360679774997898, 24.49489742783178]"
      ]
     },
     "execution_count": 6,
     "metadata": {},
     "output_type": "execute_result"
    }
   ],
   "source": [
    "l=input(\"enter numbers\").split(\",\")\n",
    "frm(l)"
   ]
  },
  {
   "cell_type": "markdown",
   "metadata": {},
   "source": [
    "\n",
    "Question 2:\n",
    "Write a program which takes 2 digits, X,Y as input and generates a 2-dimensional array. The element value in the i-th row and j-th column of the array should be i*j.\n",
    "\n"
   ]
  },
  {
   "cell_type": "code",
   "execution_count": 13,
   "metadata": {},
   "outputs": [
    {
     "name": "stdout",
     "output_type": "stream",
     "text": [
      "enter the value of x=3\n",
      "enter the value of y=5\n"
     ]
    },
    {
     "data": {
      "text/plain": [
       "[[0, 0, 0, 0, 0], [0, 1, 2, 3, 4], [0, 2, 4, 6, 8]]"
      ]
     },
     "execution_count": 13,
     "metadata": {},
     "output_type": "execute_result"
    }
   ],
   "source": [
    "x=int(input(\"enter the value of x=\"))\n",
    "y=int(input(\"enter the value of y=\"))\n",
    "l=[[] for i in range(x)]\n",
    "for i in range(x):\n",
    "    for j in range(y):\n",
    "        l[i].append(i*j)\n",
    "l"
   ]
  },
  {
   "cell_type": "markdown",
   "metadata": {},
   "source": [
    "Question 3:\n",
    "Write a program that accepts a comma separated sequence of words as input and prints the words in a comma-separated sequence after sorting them alphabetically.\n",
    "\n",
    "\n",
    "\n",
    "\n"
   ]
  },
  {
   "cell_type": "code",
   "execution_count": 19,
   "metadata": {},
   "outputs": [
    {
     "name": "stdout",
     "output_type": "stream",
     "text": [
      "enter word seperated by comma=without,hello,bag,world\n"
     ]
    },
    {
     "data": {
      "text/plain": [
       "['bag', 'hello', 'without', 'world']"
      ]
     },
     "execution_count": 19,
     "metadata": {},
     "output_type": "execute_result"
    }
   ],
   "source": [
    "words=input(\"enter word seperated by comma=\").split(\",\")\n",
    "words.sort()\n",
    "words"
   ]
  },
  {
   "cell_type": "markdown",
   "metadata": {},
   "source": [
    "Question 4:\n",
    "Write a program that accepts a sequence of whitespace separated words as input and prints the words after removing all duplicate words and sorting them alphanumerically.\n",
    "\n",
    "\n",
    "\n"
   ]
  },
  {
   "cell_type": "code",
   "execution_count": 31,
   "metadata": {},
   "outputs": [
    {
     "name": "stdout",
     "output_type": "stream",
     "text": [
      "enter word seperated by comma= hello world and practice makes perfect and hello world again\n",
      "again and hello makes perfect practice world "
     ]
    }
   ],
   "source": [
    "words=input(\"enter word seperated by comma=\").split()\n",
    "s=set(words)\n",
    "s=list(s)\n",
    "s.sort()\n",
    "for i in s:\n",
    "    print(i,\"\",end=\"\")\n"
   ]
  },
  {
   "cell_type": "markdown",
   "metadata": {},
   "source": [
    "\n",
    "Question 5:\n",
    "Write a program that accepts a sentence and calculate the number of letters and digits.\n",
    "\n",
    "\n",
    "\n",
    "\n",
    "Suppose the following input is supplied to the program:\n",
    "\n",
    "\n",
    "\n"
   ]
  },
  {
   "cell_type": "code",
   "execution_count": 48,
   "metadata": {},
   "outputs": [
    {
     "name": "stdout",
     "output_type": "stream",
     "text": [
      "enter sentence with letters and digits=saba123\n",
      "Digits=3 letters=4 others=0\n"
     ]
    }
   ],
   "source": [
    "sent=input(\"enter sentence with letters and digits=\")\n",
    "dig=[i for i in range(10)]\n",
    "for i in range(10):\n",
    "    dig.append(str(i))\n",
    "letters=[chr(i) for i in range(97,123)]\n",
    "for i in range(65,91):\n",
    "    letters.append(chr(i))\n",
    "letc=0\n",
    "digi=0\n",
    "oth=0\n",
    "for i in sent:\n",
    "    if i in dig:\n",
    "        digi=digi+1\n",
    "        \n",
    "    elif i in letters:\n",
    "        letc=letc+1\n",
    "    else:\n",
    "        oth=oth+1\n",
    "print(\"Digits={0} letters={1} others={2}\".format(digi,letc,oth))      \n",
    "        "
   ]
  },
  {
   "cell_type": "markdown",
   "metadata": {},
   "source": [
    "question 6\n",
    "A website requires the users to input username and password to register. Write a program to check the validity of password input by users.\n",
    "\n",
    "\n",
    "\n",
    "\n",
    "Following are the criteria for checking the password:\n",
    "\n",
    "\n",
    "\n",
    "\n",
    "1. At least 1 letter between [a-z]\n",
    "\n",
    "\n",
    "\n",
    "\n",
    "2. At least 1 number between [0-9]\n",
    "\n",
    "\n",
    "\n",
    "\n",
    "1. At least 1 letter between [A-Z]\n",
    "\n",
    "\n",
    "\n",
    "\n",
    "3. At least 1 character from [$#@]\n",
    "\n",
    "\n",
    "\n",
    "\n",
    "4. Minimum length of transaction password: 6\n",
    "\n",
    "\n",
    "\n"
   ]
  },
  {
   "cell_type": "code",
   "execution_count": 69,
   "metadata": {},
   "outputs": [],
   "source": [
    "def passwrdvalidate(p):\n",
    "    import re\n",
    "    smallLet=re.findall(\"[a-z]\",p)\n",
    "    captlet=re.findall(\"[A-Z]\",p)\n",
    "    digi=re.findall(\"[0-9]\",p)\n",
    "    spec=re.findall(\"[$#@]\",p)\n",
    "    if len(smallLet)>=1 and len(captlet)>=1 and len(digi)>=1 and len(spec)>=1 and len(p)>=6 and len(p)<=12:\n",
    "        \n",
    "        return(p)\n",
    "    else:\n",
    "        return(\"\")"
   ]
  },
  {
   "cell_type": "code",
   "execution_count": 72,
   "metadata": {},
   "outputs": [
    {
     "name": "stdout",
     "output_type": "stream",
     "text": [
      "enter passwords seperated by comma= ABd1234@1,a F1#,2w3E*,2We3345\n",
      "correct passwords are:\n",
      " ABd1234@1\n",
      "\n",
      "\n",
      "\n"
     ]
    }
   ],
   "source": [
    "passw=input(\"enter passwords seperated by comma=\").split(\",\")\n",
    "print(\"correct passwords are:\")\n",
    "for i in passw:\n",
    "    print(passwrdvalidate(i))\n",
    "    "
   ]
  },
  {
   "cell_type": "code",
   "execution_count": null,
   "metadata": {},
   "outputs": [],
   "source": []
  }
 ],
 "metadata": {
  "kernelspec": {
   "display_name": "Python 3",
   "language": "python",
   "name": "python3"
  },
  "language_info": {
   "codemirror_mode": {
    "name": "ipython",
    "version": 3
   },
   "file_extension": ".py",
   "mimetype": "text/x-python",
   "name": "python",
   "nbconvert_exporter": "python",
   "pygments_lexer": "ipython3",
   "version": "3.8.5"
  }
 },
 "nbformat": 4,
 "nbformat_minor": 4
}
