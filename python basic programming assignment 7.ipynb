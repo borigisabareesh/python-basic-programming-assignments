{
 "cells": [
  {
   "cell_type": "markdown",
   "metadata": {},
   "source": [
    "<b>1.\tWrite a Python Program to find sum of array?"
   ]
  },
  {
   "cell_type": "code",
   "execution_count": 5,
   "metadata": {},
   "outputs": [
    {
     "name": "stdout",
     "output_type": "stream",
     "text": [
      "enter elements for array=2,3,4,5\n",
      "14\n"
     ]
    }
   ],
   "source": [
    "l=[int(i) for i in input(\"enter elements for array=\").split(',') ]\n",
    "s=0\n",
    "for i in l:\n",
    "    s=s+i\n",
    "print(s)"
   ]
  },
  {
   "cell_type": "markdown",
   "metadata": {},
   "source": [
    "<b>2.\tWrite a Python Program to find largest element in an array?"
   ]
  },
  {
   "cell_type": "code",
   "execution_count": 10,
   "metadata": {},
   "outputs": [
    {
     "name": "stdout",
     "output_type": "stream",
     "text": [
      "enter elements for array=2,45,12,47,14,15425,124,123\n",
      "the largest number in array= 15425\n"
     ]
    }
   ],
   "source": [
    "l=[int(i) for i in input(\"enter elements for array=\").split(',') ]\n",
    "l.sort(reverse=True)\n",
    "print(\"the largest number in array=\",l[0])"
   ]
  },
  {
   "cell_type": "markdown",
   "metadata": {},
   "source": [
    "<b>3.\tWrite a Python Program for array rotation?"
   ]
  },
  {
   "cell_type": "code",
   "execution_count": 93,
   "metadata": {},
   "outputs": [],
   "source": [
    "def rigrotate(l,n):\n",
    "    m=[]\n",
    "    for i in range(n):\n",
    "        m.append(l.pop())\n",
    "        \n",
    "    m=m[::-1]    \n",
    "    m.extend(l)\n",
    "    return(m)\n",
    "    \n"
   ]
  },
  {
   "cell_type": "code",
   "execution_count": 2,
   "metadata": {},
   "outputs": [],
   "source": [
    "def lefrotate(l,n):\n",
    "    m=[]\n",
    "    for i in range(n):\n",
    "        m.append(l[0])\n",
    "        \n",
    "        l.remove(l[0])\n",
    "    l.extend(m)\n",
    "    return(l)\n",
    "    "
   ]
  },
  {
   "cell_type": "code",
   "execution_count": 3,
   "metadata": {},
   "outputs": [
    {
     "name": "stdout",
     "output_type": "stream",
     "text": [
      "enter elements for array=1,2,3,4,56,6,7,8\n",
      "enter 1 for right shift or 2 for left shift =2\n",
      "enter no of dights you need to left shift =2\n",
      "your orginal array\n",
      "array after left shift by 2 digits= [3, 4, 56, 6, 7, 8, 1, 2]\n"
     ]
    }
   ],
   "source": [
    "l=[int(i) for i in input(\"enter elements for array=\").split(',') ]\n",
    "a=int(input(\"enter 1 for right shift or 2 for left shift =\"))\n",
    "if a==1:\n",
    "    \n",
    "    rsd=int(input(\"enter no of dights you need to right shift =\"))\n",
    "    print(\"your orginal array\")\n",
    "    print(\"array after right shift by\",rsd,\"digits=\",rigrotate(l,rsd))\n",
    "elif a==2:\n",
    "    \n",
    "    lsd=int(input(\"enter no of dights you need to left shift =\"))\n",
    "    print(\"your orginal array\")\n",
    "    print(\"array after left shift by\",lsd,\"digits=\",lefrotate(l,lsd))\n",
    "else:\n",
    "    print(\"entered option is invalid\")\n",
    "    "
   ]
  },
  {
   "cell_type": "markdown",
   "metadata": {},
   "source": [
    "<b>4.\tWrite a Python Program to Split the array and add the first part to the end?"
   ]
  },
  {
   "cell_type": "code",
   "execution_count": 11,
   "metadata": {},
   "outputs": [
    {
     "name": "stdout",
     "output_type": "stream",
     "text": [
      "enter elements for array=1,2,3,4,5,6,7,8,9\n",
      "Enter the position of the element to split the array=3\n",
      "array after splitted and added the firs part= [5, 6, 7, 8, 9, 1, 2, 3, 4]\n"
     ]
    }
   ],
   "source": [
    "l=[int(i) for i in input(\"enter elements for array=\").split(',') ]\n",
    "p=int(input(\"Enter the position of the element to split the array=\"))\n",
    "\n",
    "m=[]\n",
    "m.extend(l[p+1:])\n",
    "p=p+1\n",
    "m.extend(l[0:p])\n",
    "\n",
    "\n",
    "print(\"array after splitted and added the firs part=\",m)\n"
   ]
  },
  {
   "cell_type": "markdown",
   "metadata": {},
   "source": [
    "<b>5.\tWrite a Python Program to check if given array is Monotonic?"
   ]
  },
  {
   "cell_type": "code",
   "execution_count": 22,
   "metadata": {},
   "outputs": [],
   "source": [
    "def monotonic(l):\n",
    "    s=len(l)\n",
    "    c=0\n",
    "    f=0\n",
    "    for i in range(s):\n",
    "        for j in range(i+1,s):\n",
    "            if l[i]>=l[j]:\n",
    "                pass\n",
    "            else:\n",
    "                c=c+1\n",
    "    for i in range(s):\n",
    "        for j in range(i+1,s):\n",
    "            if l[i]<=l[j]:\n",
    "                pass\n",
    "            else:\n",
    "                f=f+1\n",
    "    if c>0 and f>0:\n",
    "        return(\"not monotic\")\n",
    "        \n",
    "    else:\n",
    "        return(\"monotonic\")\n",
    "    \n",
    "    \n",
    "    "
   ]
  },
  {
   "cell_type": "code",
   "execution_count": 23,
   "metadata": {},
   "outputs": [
    {
     "name": "stdout",
     "output_type": "stream",
     "text": [
      "enter elements for array=1,2,3,4,5\n"
     ]
    },
    {
     "data": {
      "text/plain": [
       "'monotonic'"
      ]
     },
     "execution_count": 23,
     "metadata": {},
     "output_type": "execute_result"
    }
   ],
   "source": [
    "l=[int(i) for i in input(\"enter elements for array=\").split(',') ]\n",
    "monotonic(l)"
   ]
  },
  {
   "cell_type": "code",
   "execution_count": 24,
   "metadata": {},
   "outputs": [
    {
     "name": "stdout",
     "output_type": "stream",
     "text": [
      "enter elements for array=5,4,3,2,1\n"
     ]
    },
    {
     "data": {
      "text/plain": [
       "'monotonic'"
      ]
     },
     "execution_count": 24,
     "metadata": {},
     "output_type": "execute_result"
    }
   ],
   "source": [
    "l=[int(i) for i in input(\"enter elements for array=\").split(',') ]\n",
    "monotonic(l)"
   ]
  },
  {
   "cell_type": "code",
   "execution_count": 25,
   "metadata": {},
   "outputs": [
    {
     "name": "stdout",
     "output_type": "stream",
     "text": [
      "enter elements for array=1,2,5,1,5,4\n"
     ]
    },
    {
     "data": {
      "text/plain": [
       "'not monotic'"
      ]
     },
     "execution_count": 25,
     "metadata": {},
     "output_type": "execute_result"
    }
   ],
   "source": [
    "l=[int(i) for i in input(\"enter elements for array=\").split(',') ]\n",
    "monotonic(l)"
   ]
  },
  {
   "cell_type": "code",
   "execution_count": null,
   "metadata": {},
   "outputs": [],
   "source": []
  }
 ],
 "metadata": {
  "kernelspec": {
   "display_name": "Python 3",
   "language": "python",
   "name": "python3"
  }
 },
 "nbformat": 4,
 "nbformat_minor": 4
}
