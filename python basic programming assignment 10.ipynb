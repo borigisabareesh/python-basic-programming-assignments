{
 "cells": [
  {
   "cell_type": "markdown",
   "metadata": {},
   "source": [
    "1.\tWrite a Python program to find sum of elements in list?"
   ]
  },
  {
   "cell_type": "code",
   "execution_count": 5,
   "metadata": {},
   "outputs": [
    {
     "name": "stdout",
     "output_type": "stream",
     "text": [
      "enter elements for list=1,2,3,4,5\n",
      "sum of elements in list= 15\n"
     ]
    }
   ],
   "source": [
    "n=input(\"enter elements for list=\").split(\",\")\n",
    "l=[int(i) for i in n]\n",
    "s=0\n",
    "for i in l:\n",
    "    s=s+i\n",
    "print(\"sum of elements in list=\",s)\n",
    "   "
   ]
  },
  {
   "cell_type": "markdown",
   "metadata": {},
   "source": [
    "<b>2.\tWrite a Python program to  Multiply all numbers in the list?"
   ]
  },
  {
   "cell_type": "code",
   "execution_count": 6,
   "metadata": {},
   "outputs": [
    {
     "name": "stdout",
     "output_type": "stream",
     "text": [
      "enter elements for list=1,2,3,4,5\n",
      "product of all elements in list= 120\n"
     ]
    }
   ],
   "source": [
    "n=input(\"enter elements for list=\").split(\",\")\n",
    "l=[int(i) for i in n]\n",
    "s=1\n",
    "for i in l:\n",
    "    s=s*i\n",
    "print(\"product of all elements in list=\",s)\n",
    "   "
   ]
  },
  {
   "cell_type": "markdown",
   "metadata": {},
   "source": [
    "<b>3.\tWrite a Python program to find smallest number in a list?"
   ]
  },
  {
   "cell_type": "code",
   "execution_count": 16,
   "metadata": {},
   "outputs": [
    {
     "name": "stdout",
     "output_type": "stream",
     "text": [
      "enter elements for list=5,5,4,8,7,2,1,5,4\n",
      "minumum value inthe list= 1\n"
     ]
    }
   ],
   "source": [
    "n=input(\"enter elements for list=\").split(\",\")\n",
    "l=[int(i) for i in n]\n",
    "min=l[0]\n",
    "for i in range(1,len(l)):\n",
    "    if l[i]<min:\n",
    "        min=l[i]\n",
    "    \n",
    "print(\"minumum value inthe list=\",min)    \n",
    "    "
   ]
  },
  {
   "cell_type": "markdown",
   "metadata": {},
   "source": [
    "<b>4.\tWrite a Python program to find largest number in a list?"
   ]
  },
  {
   "cell_type": "code",
   "execution_count": 18,
   "metadata": {},
   "outputs": [
    {
     "name": "stdout",
     "output_type": "stream",
     "text": [
      "enter elements for list=5,4,21,789,451,6\n",
      "minumum value inthe list= 789\n"
     ]
    }
   ],
   "source": [
    "n=input(\"enter elements for list=\").split(\",\")\n",
    "l=[int(i) for i in n]\n",
    "max=l[0]\n",
    "for i in range(1,len(l)):\n",
    "    if l[i]>max:\n",
    "        max=l[i]\n",
    "    \n",
    "print(\"minumum value inthe list=\",max)    \n",
    "    "
   ]
  },
  {
   "cell_type": "markdown",
   "metadata": {},
   "source": [
    "<b>5.\tWrite a Python program to find second largest number in a list?"
   ]
  },
  {
   "cell_type": "code",
   "execution_count": 19,
   "metadata": {},
   "outputs": [],
   "source": [
    "def largest(n):\n",
    "    l=[int(i) for i in n]\n",
    "    max=l[0]\n",
    "    for i in range(1,len(l)):\n",
    "        if l[i]>max:\n",
    "            max=l[i]\n",
    "    return(max)\n",
    "    "
   ]
  },
  {
   "cell_type": "code",
   "execution_count": 22,
   "metadata": {},
   "outputs": [
    {
     "name": "stdout",
     "output_type": "stream",
     "text": [
      "enter elements for list=5,5,5,4,4,2,1\n",
      "second largest element= 4\n"
     ]
    }
   ],
   "source": [
    "n=input(\"enter elements for list=\").split(\",\")\n",
    "l=[int(i) for i in n]\n",
    "r=largest(l)\n",
    "while(1==1):\n",
    "    if r in l:\n",
    "        l.remove(r)\n",
    "    else:\n",
    "        break\n",
    "        \n",
    "\n",
    "print(\"second largest element=\",largest(l))"
   ]
  },
  {
   "cell_type": "markdown",
   "metadata": {},
   "source": [
    "<b>6.\tWrite a Python program to find N largest elements from a list?"
   ]
  },
  {
   "cell_type": "code",
   "execution_count": 23,
   "metadata": {},
   "outputs": [],
   "source": [
    "def largest(n):\n",
    "    l=[int(i) for i in n]\n",
    "    max=l[0]\n",
    "    for i in range(1,len(l)):\n",
    "        if l[i]>max:\n",
    "            max=l[i]\n",
    "    return(max)\n",
    "    "
   ]
  },
  {
   "cell_type": "code",
   "execution_count": 24,
   "metadata": {},
   "outputs": [
    {
     "name": "stdout",
     "output_type": "stream",
     "text": [
      "enter elements for list=5,5,4,4,3,3,2,1\n",
      "enter the no of largest elements3\n",
      "[5, 4, 3]\n"
     ]
    }
   ],
   "source": [
    "n=input(\"enter elements for list=\").split(\",\")\n",
    "l=[int(i) for i in n]\n",
    "l=set(l)\n",
    "l=list(l)\n",
    "N=int(input(\"enter the no of largest elements\"))\n",
    "nl=[]\n",
    "for i in range(N):\n",
    "    nl.append(largest(l))\n",
    "    l.remove(largest(l))\n",
    "print(nl)"
   ]
  },
  {
   "cell_type": "markdown",
   "metadata": {},
   "source": [
    "<b>7.\tWrite a Python program to print even numbers in a list?"
   ]
  },
  {
   "cell_type": "code",
   "execution_count": 25,
   "metadata": {},
   "outputs": [
    {
     "name": "stdout",
     "output_type": "stream",
     "text": [
      "enter elements for list=1,2,3,4,5,6,7,8\n",
      "2\n",
      "4\n",
      "6\n",
      "8\n"
     ]
    }
   ],
   "source": [
    "n=input(\"enter elements for list=\").split(\",\")\n",
    "l=[int(i) for i in n]\n",
    "for i in l:\n",
    "    if i%2==0:\n",
    "        print(i)"
   ]
  },
  {
   "cell_type": "markdown",
   "metadata": {},
   "source": [
    "<b>8.\tWrite a Python program to print odd numbers in a List?"
   ]
  },
  {
   "cell_type": "code",
   "execution_count": 26,
   "metadata": {},
   "outputs": [
    {
     "name": "stdout",
     "output_type": "stream",
     "text": [
      "enter elements for list=1,2,3,4,5,6,7,8\n",
      "1\n",
      "3\n",
      "5\n",
      "7\n"
     ]
    }
   ],
   "source": [
    "n=input(\"enter elements for list=\").split(\",\")\n",
    "l=[int(i) for i in n]\n",
    "for i in l:\n",
    "    if i%2!=0:\n",
    "        print(i)"
   ]
  },
  {
   "cell_type": "markdown",
   "metadata": {},
   "source": [
    "<b>9.\tWrite a Python program to Remove empty List from List?"
   ]
  },
  {
   "cell_type": "code",
   "execution_count": 54,
   "metadata": {},
   "outputs": [],
   "source": [
    "l=[[],[1,2,3],[2,3]]\n"
   ]
  },
  {
   "cell_type": "code",
   "execution_count": 56,
   "metadata": {},
   "outputs": [
    {
     "name": "stdout",
     "output_type": "stream",
     "text": [
      "final list= [[1, 2, 3], [2, 3]]\n"
     ]
    }
   ],
   "source": [
    "for i in range(0,len(l)):\n",
    "    \n",
    "    if len(l[i])==0:\n",
    "        \n",
    "        l.remove(l[i])\n",
    "print(\"final list=\",l)    "
   ]
  },
  {
   "cell_type": "markdown",
   "metadata": {},
   "source": [
    "<b>10.\tWrite a Python program to Cloning or Copying a list?"
   ]
  },
  {
   "cell_type": "markdown",
   "metadata": {},
   "source": [
    "using slice operator"
   ]
  },
  {
   "cell_type": "code",
   "execution_count": 59,
   "metadata": {},
   "outputs": [
    {
     "name": "stdout",
     "output_type": "stream",
     "text": [
      "1790620685248\n",
      "1790621930816\n"
     ]
    }
   ],
   "source": [
    "L1=[1,2,3,4]\n",
    "L2=L1[:]\n",
    "print(id(L1)) ##List 1 is stored in another location\n",
    "print(id(L2)) ##List 2 is stored in another location\n"
   ]
  },
  {
   "cell_type": "markdown",
   "metadata": {},
   "source": [
    "<b>11.\tWrite a Python program to Count occurrences of an element in a list?"
   ]
  },
  {
   "cell_type": "code",
   "execution_count": 68,
   "metadata": {},
   "outputs": [
    {
     "name": "stdout",
     "output_type": "stream",
     "text": [
      "enter elements for list=2,2,3,3,0,0,1,4,5,8\n",
      "2  occured 2  times\n",
      "3  occured 2  times\n",
      "0  occured 2  times\n",
      "1  occured 1  times\n",
      "4  occured 1  times\n",
      "5  occured 1  times\n",
      "8  occured 1  times\n"
     ]
    }
   ],
   "source": [
    "n=input(\"enter elements for list=\").split(\",\")\n",
    "l=[int(i) for i in n]\n",
    "d={}\n",
    "for i in range(len(l)):\n",
    "    d[l[i]]=0\n",
    "\n",
    "for i in range(len(l)):\n",
    "    if l[i] in l:\n",
    "        d[l[i]]= d[l[i]]+1\n",
    "for i in d:\n",
    "    print(i,\" occured\", d[i],\" times\")"
   ]
  },
  {
   "cell_type": "code",
   "execution_count": null,
   "metadata": {},
   "outputs": [],
   "source": []
  },
  {
   "cell_type": "code",
   "execution_count": null,
   "metadata": {},
   "outputs": [],
   "source": []
  }
 ],
 "metadata": {
  "kernelspec": {
   "display_name": "Python 3",
   "language": "python",
   "name": "python3"
  },
  "language_info": {
   "codemirror_mode": {
    "name": "ipython",
    "version": 3
   },
   "file_extension": ".py",
   "mimetype": "text/x-python",
   "name": "python",
   "nbconvert_exporter": "python",
   "pygments_lexer": "ipython3",
   "version": "3.8.3"
  }
 },
 "nbformat": 4,
 "nbformat_minor": 4
}
