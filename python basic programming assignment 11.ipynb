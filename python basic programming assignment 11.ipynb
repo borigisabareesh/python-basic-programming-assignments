{
 "cells": [
  {
   "cell_type": "markdown",
   "metadata": {},
   "source": [
    "<b>1.\tWrite a Python program to find words which are greater than given length k?"
   ]
  },
  {
   "cell_type": "code",
   "execution_count": 6,
   "metadata": {},
   "outputs": [
    {
     "name": "stdout",
     "output_type": "stream",
     "text": [
      "enter words=Python's simple, easy to learn syntax emphasizes readability and therefore reduces the cost of program maintenance\n",
      "enter the length6\n",
      "Python's\n",
      "simple,\n",
      "emphasizes\n",
      "readability\n",
      "therefore\n",
      "reduces\n",
      "program\n",
      "maintenance\n"
     ]
    }
   ],
   "source": [
    "n=input(\"enter words=\").split()\n",
    "k=int(input(\"enter the length\"))\n",
    "for i in n:\n",
    "    if len(i)>k:\n",
    "        print(i)"
   ]
  },
  {
   "cell_type": "markdown",
   "metadata": {},
   "source": [
    "<b>2.\tWrite a Python program for removing i-th character from a string?"
   ]
  },
  {
   "cell_type": "code",
   "execution_count": 47,
   "metadata": {},
   "outputs": [
    {
     "name": "stdout",
     "output_type": "stream",
     "text": [
      "enter string=Srichakra\n",
      "your string is= Srichakra\n",
      "enter the index of character you want to remove=2\n",
      "Srchakra\n"
     ]
    }
   ],
   "source": [
    "n=input(\"enter string=\")\n",
    "print(\"your string is=\",n)\n",
    "n=list(n)\n",
    "ch=int(input(\"enter the index of character you want to remove=\"))\n",
    "for i in range(len(n)):\n",
    "    if i==ch:\n",
    "        n.remove(n[i])\n",
    "s=\"\"\n",
    "for i in n:\n",
    "    s=s+i\n",
    "print(s)\n",
    "    "
   ]
  },
  {
   "cell_type": "markdown",
   "metadata": {},
   "source": [
    "<b>3.\tWrite a Python program to split and join a string?"
   ]
  },
  {
   "cell_type": "code",
   "execution_count": 21,
   "metadata": {},
   "outputs": [
    {
     "name": "stdout",
     "output_type": "stream",
     "text": [
      "enter string=Python supports modules and packages\n",
      "string after joining= Python-supports-modules-and-packages\n"
     ]
    }
   ],
   "source": [
    "n=input(\"enter string=\").split()\n",
    "stri=\"\"\n",
    "stri=stri+n[0]\n",
    "for i in range(1,len(n)):\n",
    "    \n",
    "    \n",
    "    stri=stri+'-'+n[i]\n",
    "print(\"string after joining=\",stri)"
   ]
  },
  {
   "cell_type": "markdown",
   "metadata": {},
   "source": [
    "<b>4.\tWrite a Python to check if a given string is binary string or not?"
   ]
  },
  {
   "cell_type": "code",
   "execution_count": 8,
   "metadata": {},
   "outputs": [],
   "source": [
    "def isbinary(n):\n",
    "    l=str(n)\n",
    "    c=0\n",
    "    for i in l:\n",
    "    \n",
    "       if int(i) not in [0,1]:\n",
    "            \n",
    "        \n",
    "            c=c+1\n",
    "    if c>0:\n",
    "        return(\"not binary string\")\n",
    "    else:\n",
    "        return(\"binary string\")\n",
    "    "
   ]
  },
  {
   "cell_type": "code",
   "execution_count": 9,
   "metadata": {},
   "outputs": [
    {
     "data": {
      "text/plain": [
       "'not binary string'"
      ]
     },
     "execution_count": 9,
     "metadata": {},
     "output_type": "execute_result"
    }
   ],
   "source": [
    "isbinary(12345)"
   ]
  },
  {
   "cell_type": "code",
   "execution_count": 10,
   "metadata": {},
   "outputs": [
    {
     "data": {
      "text/plain": [
       "'binary string'"
      ]
     },
     "execution_count": 10,
     "metadata": {},
     "output_type": "execute_result"
    }
   ],
   "source": [
    "isbinary(10101)"
   ]
  },
  {
   "cell_type": "markdown",
   "metadata": {},
   "source": [
    "<b>5.\tWrite a Python program to find uncommon words from two Strings?"
   ]
  },
  {
   "cell_type": "code",
   "execution_count": 14,
   "metadata": {},
   "outputs": [
    {
     "name": "stdout",
     "output_type": "stream",
     "text": [
      "enter string=the full stack data science\n",
      "enter string=the Full Stack is nice one\n"
     ]
    },
    {
     "data": {
      "text/plain": [
       "['full', 'stack', 'data', 'science', 'Full', 'Stack', 'is', 'nice', 'one']"
      ]
     },
     "execution_count": 14,
     "metadata": {},
     "output_type": "execute_result"
    }
   ],
   "source": [
    "n1=input(\"enter string=\").split()\n",
    "n2=input(\"enter string=\").split()\n",
    "n3=[]\n",
    "for i in n1:\n",
    "    if i not in n2:\n",
    "        n3.append(i)\n",
    "for i in n2:\n",
    "    if i not in n1:\n",
    "        n3.append(i)\n",
    "\n",
    "n3      "
   ]
  },
  {
   "cell_type": "markdown",
   "metadata": {},
   "source": [
    "<b>6.\tWrite a Python to find all duplicate characters in string?"
   ]
  },
  {
   "cell_type": "code",
   "execution_count": 32,
   "metadata": {},
   "outputs": [
    {
     "name": "stdout",
     "output_type": "stream",
     "text": [
      "enter string=sabareesh\n",
      "duplicate characters\n",
      "e occured 2 times\n",
      "s occured 2 times\n",
      "a occured 2 times\n"
     ]
    }
   ],
   "source": [
    "n1=input(\"enter string=\")\n",
    "l=[i for i in n1]\n",
    "m=l[:]\n",
    "s=set(m)\n",
    "s=list(s)\n",
    "d={}\n",
    "for i in s:\n",
    "    d[i]=0\n",
    "for i in l:\n",
    "    d[i]=d[i]+1\n",
    "print(\"duplicate characters\")\n",
    "for i in d:\n",
    "    if d[i]>1:\n",
    "        print(i,\"occured\",d[i],\"times\")\n",
    "    "
   ]
  },
  {
   "cell_type": "markdown",
   "metadata": {},
   "source": [
    "<b>7.\tWrite a Python Program to check if a string contains any special character?"
   ]
  },
  {
   "cell_type": "code",
   "execution_count": 39,
   "metadata": {},
   "outputs": [
    {
     "name": "stdout",
     "output_type": "stream",
     "text": [
      "enter string with any special charcter=sabareesh&TG*\n",
      "yes ! your string contains special characters= ['&', '*']\n"
     ]
    }
   ],
   "source": [
    "n1=input(\"enter string with any special charcter=\")\n",
    "c=0\n",
    "l=[]\n",
    "for i in n1:\n",
    "    if i in ['@','$',',',\";\",\":\",\"{\",\"}\",\"^\",\"&\",\"*\"]:\n",
    "        c=c+1\n",
    "        l.append(i)\n",
    "if c>0:\n",
    "    print(\"yes ! your string contains special characters=\",l)\n",
    "           "
   ]
  },
  {
   "cell_type": "code",
   "execution_count": null,
   "metadata": {},
   "outputs": [],
   "source": []
  },
  {
   "cell_type": "code",
   "execution_count": null,
   "metadata": {},
   "outputs": [],
   "source": []
  }
 ],
 "metadata": {
  "kernelspec": {
   "display_name": "Python 3",
   "language": "python",
   "name": "python3"
  },
  "language_info": {
   "codemirror_mode": {
    "name": "ipython",
    "version": 3
   },
   "file_extension": ".py",
   "mimetype": "text/x-python",
   "name": "python",
   "nbconvert_exporter": "python",
   "pygments_lexer": "ipython3",
   "version": "3.8.3"
  }
 },
 "nbformat": 4,
 "nbformat_minor": 4
}
