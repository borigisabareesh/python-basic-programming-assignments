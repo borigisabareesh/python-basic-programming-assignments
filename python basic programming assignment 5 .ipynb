{
 "cells": [
  {
   "cell_type": "markdown",
   "metadata": {},
   "source": [
    "1.\tWrite a Python Program to Find LCM?"
   ]
  },
  {
   "cell_type": "code",
   "execution_count": 5,
   "metadata": {},
   "outputs": [
    {
     "name": "stdout",
     "output_type": "stream",
     "text": [
      "enter number2,3,7,21,11\n",
      "Lcm  462\n"
     ]
    }
   ],
   "source": [
    "l=input(\"enter number\").split(',')\n",
    "L=[int(i) for i in l]\n",
    "\n",
    "m=max(L)\n",
    "L.remove(m)\n",
    "a=[]\n",
    "for i in L:\n",
    "    if m%i==0:\n",
    "        pass\n",
    "    else:\n",
    "        a.append(i)\n",
    "        \n",
    "lcm=1\n",
    "if len(a)>0:\n",
    "    for i in range(len(a)):\n",
    "        lcm=lcm*a[i]\n",
    "lcm=lcm*m\n",
    "print(\"Lcm \",lcm)"
   ]
  },
  {
   "cell_type": "markdown",
   "metadata": {},
   "source": [
    "<b>2.\tWrite a Python Program to Find HCF?"
   ]
  },
  {
   "cell_type": "code",
   "execution_count": 32,
   "metadata": {},
   "outputs": [],
   "source": [
    "def factors(n):\n",
    "    f=[]\n",
    "    for i in range(1,n+1):\n",
    "        if n%i==0:\n",
    "            f.append(i)\n",
    "    return(f)\n",
    "        "
   ]
  },
  {
   "cell_type": "code",
   "execution_count": 39,
   "metadata": {},
   "outputs": [
    {
     "name": "stdout",
     "output_type": "stream",
     "text": [
      "enter number20,50,120\n",
      "gcd= 10\n"
     ]
    }
   ],
   "source": [
    "l=input(\"enter number\").split(',')\n",
    "L=[int(i) for i in l]\n",
    "\n",
    "fa=[]\n",
    "for i in L:\n",
    "    fa.append(factors(i))\n",
    "cmnlen=len(fa)\n",
    "hv=[]\n",
    "for i in fa:\n",
    "    for j in i:\n",
    "        hv.append(j)\n",
    "for i in hv:\n",
    "    allm=max(hv)\n",
    "    if hv.count(allm)==cmnlen:\n",
    "        gcd=allm\n",
    "    else:\n",
    "        hv.remove(allm)\n",
    "print(\"gcd=\",gcd)"
   ]
  },
  {
   "cell_type": "markdown",
   "metadata": {},
   "source": [
    "<b>3.\tWrite a Python Program to Convert Decimal to Binary, Octal and Hexadecimal?"
   ]
  },
  {
   "cell_type": "code",
   "execution_count": 51,
   "metadata": {},
   "outputs": [],
   "source": [
    "def dec2bin(d):\n",
    "    bli=[]\n",
    "    while(d>0):\n",
    "        bli.append(int(d%2))\n",
    "        d=int(d/2)\n",
    "        fv=bli[::-1]\n",
    "    return(fv)"
   ]
  },
  {
   "cell_type": "code",
   "execution_count": 61,
   "metadata": {},
   "outputs": [],
   "source": [
    "def dec2oct(d):\n",
    "    bli=[]\n",
    "    while(d>0):\n",
    "        bli.append(int(d%8))\n",
    "        d=int(d/8)\n",
    "        fv=bli[::-1]\n",
    "        s=\"\"\n",
    "        for i in fv:\n",
    "            s=s+str(i)\n",
    "        s=int(s)\n",
    "    return(s)"
   ]
  },
  {
   "cell_type": "code",
   "execution_count": 69,
   "metadata": {},
   "outputs": [],
   "source": [
    "def dec2hex(d):\n",
    "    bli=[]\n",
    "    while(d>0):\n",
    "        if int(d%16)==10:\n",
    "            bli.append('A')\n",
    "            d=int(d/16)\n",
    "        elif int(d%16)==11:\n",
    "            bli.append('B')\n",
    "            d=int(d/16)\n",
    "        elif int(d%16)==12:\n",
    "            bli.append('C')\n",
    "            d=int(d/16)\n",
    "        elif int(d%16)==13:\n",
    "            bli.append('D')\n",
    "            d=int(d/16)\n",
    "        elif int(d%16)==14:\n",
    "            bli.append('E')\n",
    "            d=int(d/16)\n",
    "        elif int(d%16)==15:\n",
    "            bli.append('F')\n",
    "            d=int(d/16)\n",
    "        else:\n",
    "            bli.append(int(d%16))\n",
    "            d=int(d/16)\n",
    "            \n",
    "            \n",
    "            \n",
    "            \n",
    "        \n",
    "        \n",
    "        fv=bli[::-1]\n",
    "        s=\"\"\n",
    "        for i in fv:\n",
    "            s=s+str(i)\n",
    "        \n",
    "    return(s)"
   ]
  },
  {
   "cell_type": "code",
   "execution_count": 76,
   "metadata": {},
   "outputs": [
    {
     "name": "stdout",
     "output_type": "stream",
     "text": [
      "enter decimal number  for binary conversion20\n",
      "binary value of  20\n",
      "[1, 0, 1, 0, 0]\n",
      "enter decimal number  for oct conversion394\n",
      "oct value of  394\n",
      "612\n",
      "enter decimal number  for hex conversion479\n",
      "hex value of  479\n",
      "1DF\n"
     ]
    }
   ],
   "source": [
    "n=int(input(\"enter decimal number  for binary conversion\"))\n",
    "#dec2bin\n",
    "print(\"binary value of \",n)\n",
    "print(dec2bin(n))\n",
    "#dec2bin\n",
    "n=int(input(\"enter decimal number  for oct conversion\"))\n",
    "print(\"oct value of \",n)\n",
    "print(dec2oct(n))\n",
    "n=int(input(\"enter decimal number  for hex conversion\"))\n",
    "print(\"hex value of \",n)\n",
    "print(dec2hex(n))\n"
   ]
  },
  {
   "cell_type": "markdown",
   "metadata": {},
   "source": [
    "<b>4.\tWrite a Python Program To Find ASCII value of a character?"
   ]
  },
  {
   "cell_type": "code",
   "execution_count": 80,
   "metadata": {},
   "outputs": [
    {
     "name": "stdout",
     "output_type": "stream",
     "text": [
      "enter character to find ASCII value=k\n"
     ]
    },
    {
     "data": {
      "text/plain": [
       "107"
      ]
     },
     "execution_count": 80,
     "metadata": {},
     "output_type": "execute_result"
    }
   ],
   "source": [
    "n=input(\"enter character to find ASCII value=\")\n",
    "ord(n)"
   ]
  },
  {
   "cell_type": "markdown",
   "metadata": {},
   "source": [
    "<b>5.\tWrite a Python Program to Make a Simple Calculator with 4 basic mathematical operations?"
   ]
  },
  {
   "cell_type": "code",
   "execution_count": 87,
   "metadata": {},
   "outputs": [
    {
     "name": "stdout",
     "output_type": "stream",
     "text": [
      "enter first number=8\n",
      "select operation you want to perform\n",
      "* + - % =%\n",
      "enter second number2\n",
      "0\n"
     ]
    }
   ],
   "source": [
    "a=int(input(\"enter first number=\"))\n",
    "print(\"select operation you want to perform\")\n",
    "o=input(\"* + - % =\")\n",
    "b=int(input(\"enter second number\"))\n",
    "if o=='*':\n",
    "    print(a*b)\n",
    "elif o=='+':\n",
    "    print(a+b)\n",
    "elif o=='-':\n",
    "    print(a-b)\n",
    "else:\n",
    "    if b==0:\n",
    "        print(\"cannot be divided by 0\")\n",
    "        v=input(\"enter another value or press 0 to exit\")\n",
    "        if v==0:\n",
    "            pass\n",
    "        else:\n",
    "            print(a%int(v))\n",
    "    else:\n",
    "        print(a%b)\n",
    "        \n",
    "    "
   ]
  },
  {
   "cell_type": "code",
   "execution_count": null,
   "metadata": {},
   "outputs": [],
   "source": []
  }
 ],
 "metadata": {
  "kernelspec": {
   "display_name": "Python 3",
   "language": "python",
   "name": "python3"
  },
  "language_info": {
   "codemirror_mode": {
    "name": "ipython",
    "version": 3
   },
   "file_extension": ".py",
   "mimetype": "text/x-python",
   "name": "python",
   "nbconvert_exporter": "python",
   "pygments_lexer": "ipython3",
   "version": "3.8.3"
  }
 },
 "nbformat": 4,
 "nbformat_minor": 4
}
