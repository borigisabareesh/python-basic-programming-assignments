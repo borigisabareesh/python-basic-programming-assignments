{
 "cells": [
  {
   "cell_type": "markdown",
   "metadata": {},
   "source": [
    "<b>1.\tWrite a Python program to check if the given number is a Disarium Number?"
   ]
  },
  {
   "cell_type": "code",
   "execution_count": 6,
   "metadata": {},
   "outputs": [
    {
     "name": "stdout",
     "output_type": "stream",
     "text": [
      "enter number=135\n",
      "the 135 is disarium number\n"
     ]
    }
   ],
   "source": [
    "n=input(\"enter number=\")\n",
    "dis=0\n",
    "for i in range(len(n)):\n",
    "    dis=dis+(int(n[i])**(i+1))\n",
    "if dis==int(n):\n",
    "    print(\"the {0} is disarium number\".format(n))\n",
    "else:\n",
    "    print(\"the {0} is not disarium number\".format(n))"
   ]
  },
  {
   "cell_type": "markdown",
   "metadata": {},
   "source": [
    "<b>2.\tWrite a Python program to print all disarium numbers between 1 to 100?"
   ]
  },
  {
   "cell_type": "code",
   "execution_count": 10,
   "metadata": {},
   "outputs": [],
   "source": [
    "def disarium(n):\n",
    "    dis=0\n",
    "    n=str(n)\n",
    "    for i in range(len(n)):\n",
    "        dis=dis+(int(n[i])**(i+1))\n",
    "    return(dis)\n",
    "    "
   ]
  },
  {
   "cell_type": "code",
   "execution_count": 11,
   "metadata": {},
   "outputs": [],
   "source": [
    "res=[]\n",
    "for i in range(1,101):\n",
    "    ans=disarium(i)\n",
    "    if ans==i:\n",
    "        res.append(i)"
   ]
  },
  {
   "cell_type": "code",
   "execution_count": 12,
   "metadata": {},
   "outputs": [
    {
     "data": {
      "text/plain": [
       "[1, 2, 3, 4, 5, 6, 7, 8, 9, 89]"
      ]
     },
     "execution_count": 12,
     "metadata": {},
     "output_type": "execute_result"
    }
   ],
   "source": [
    "res"
   ]
  },
  {
   "cell_type": "markdown",
   "metadata": {},
   "source": [
    "<b>3.\tWrite a Python program to check if the given number is Happy Number?"
   ]
  },
  {
   "cell_type": "code",
   "execution_count": 1,
   "metadata": {},
   "outputs": [],
   "source": [
    "def fnbv(n):\n",
    "    n=str(n)\n",
    "    s=0\n",
    "    for i in range(len(n)):\n",
    "        s=s+(int(n[i])**2)\n",
    "    return(s)"
   ]
  },
  {
   "cell_type": "code",
   "execution_count": 4,
   "metadata": {},
   "outputs": [
    {
     "data": {
      "text/plain": [
       "1"
      ]
     },
     "execution_count": 4,
     "metadata": {},
     "output_type": "execute_result"
    }
   ],
   "source": [
    "fnbv(10)"
   ]
  },
  {
   "cell_type": "code",
   "execution_count": 10,
   "metadata": {},
   "outputs": [],
   "source": [
    "def ishappy(n):\n",
    "    if n==7:\n",
    "        return(\"happy number\")\n",
    "    \n",
    "    m=n\n",
    "    \n",
    "    while(m!=4 and m!=1):\n",
    "        m=fnbv(m)\n",
    "    if m==1:\n",
    "        return(\"happy number\")\n",
    "    else:\n",
    "        return(\"not happy\")\n",
    "   \n",
    "        \n",
    "\n",
    "\n",
    "    \n",
    "    "
   ]
  },
  {
   "cell_type": "code",
   "execution_count": 11,
   "metadata": {},
   "outputs": [
    {
     "data": {
      "text/plain": [
       "'happy number'"
      ]
     },
     "execution_count": 11,
     "metadata": {},
     "output_type": "execute_result"
    }
   ],
   "source": [
    "ishappy(82)"
   ]
  },
  {
   "cell_type": "markdown",
   "metadata": {},
   "source": [
    "<b>4.\tWrite a Python program to print all happy numbers between 1 and 100?"
   ]
  },
  {
   "cell_type": "code",
   "execution_count": 12,
   "metadata": {},
   "outputs": [
    {
     "name": "stdout",
     "output_type": "stream",
     "text": [
      "happy number 1\n",
      "not happy 2\n",
      "not happy 3\n",
      "not happy 4\n",
      "not happy 5\n",
      "not happy 6\n",
      "happy number 7\n",
      "not happy 8\n",
      "not happy 9\n",
      "happy number 10\n",
      "not happy 11\n",
      "not happy 12\n",
      "happy number 13\n",
      "not happy 14\n",
      "not happy 15\n",
      "not happy 16\n",
      "not happy 17\n",
      "not happy 18\n",
      "happy number 19\n",
      "not happy 20\n",
      "not happy 21\n",
      "not happy 22\n",
      "happy number 23\n",
      "not happy 24\n",
      "not happy 25\n",
      "not happy 26\n",
      "not happy 27\n",
      "happy number 28\n",
      "not happy 29\n",
      "not happy 30\n",
      "happy number 31\n",
      "happy number 32\n",
      "not happy 33\n",
      "not happy 34\n",
      "not happy 35\n",
      "not happy 36\n",
      "not happy 37\n",
      "not happy 38\n",
      "not happy 39\n",
      "not happy 40\n",
      "not happy 41\n",
      "not happy 42\n",
      "not happy 43\n",
      "happy number 44\n",
      "not happy 45\n",
      "not happy 46\n",
      "not happy 47\n",
      "not happy 48\n",
      "happy number 49\n",
      "not happy 50\n",
      "not happy 51\n",
      "not happy 52\n",
      "not happy 53\n",
      "not happy 54\n",
      "not happy 55\n",
      "not happy 56\n",
      "not happy 57\n",
      "not happy 58\n",
      "not happy 59\n",
      "not happy 60\n",
      "not happy 61\n",
      "not happy 62\n",
      "not happy 63\n",
      "not happy 64\n",
      "not happy 65\n",
      "not happy 66\n",
      "not happy 67\n",
      "happy number 68\n",
      "not happy 69\n",
      "happy number 70\n",
      "not happy 71\n",
      "not happy 72\n",
      "not happy 73\n",
      "not happy 74\n",
      "not happy 75\n",
      "not happy 76\n",
      "not happy 77\n",
      "not happy 78\n",
      "happy number 79\n",
      "not happy 80\n",
      "not happy 81\n",
      "happy number 82\n",
      "not happy 83\n",
      "not happy 84\n",
      "not happy 85\n",
      "happy number 86\n",
      "not happy 87\n",
      "not happy 88\n",
      "not happy 89\n",
      "not happy 90\n",
      "happy number 91\n",
      "not happy 92\n",
      "not happy 93\n",
      "happy number 94\n",
      "not happy 95\n",
      "not happy 96\n",
      "happy number 97\n",
      "not happy 98\n",
      "not happy 99\n",
      "happy number 100\n"
     ]
    }
   ],
   "source": [
    "for i in range(1,101):\n",
    "    print(ishappy(i),i)"
   ]
  },
  {
   "cell_type": "markdown",
   "metadata": {},
   "source": [
    "<b>5.\tWrite a Python program to determine whether the given number is a Harshad Number?\n",
    "    "
   ]
  },
  {
   "cell_type": "code",
   "execution_count": 9,
   "metadata": {},
   "outputs": [
    {
     "name": "stdout",
     "output_type": "stream",
     "text": [
      "enter number24\n",
      "harshad\n"
     ]
    }
   ],
   "source": [
    "n=input(\"enter number\")\n",
    "s=0\n",
    "for i in range(len(n)):\n",
    "    s=s+int(n[i])\n",
    "if int(n)%s==0:\n",
    "    \n",
    "    print(\"harshad\")\n",
    "    "
   ]
  },
  {
   "cell_type": "markdown",
   "metadata": {},
   "source": [
    "<b>6.\tWrite a Python program to print all pronic numbers between 1 and 100?"
   ]
  },
  {
   "cell_type": "code",
   "execution_count": 112,
   "metadata": {},
   "outputs": [],
   "source": [
    "def ispronicone(n):\n",
    "    l=[]\n",
    "    for i in range(1,n+1):\n",
    "    \n",
    "        if n%i==0:\n",
    "            l.append((n//i,i))\n",
    "    c=0\n",
    "    for i in l:\n",
    "    \n",
    "        if i[0]-i[1]==1 or i[1]-i[0]==1:\n",
    "            c=c+1\n",
    "           \n",
    "        else:\n",
    "            pass\n",
    "    if c>1:\n",
    "        return(\"yes\")\n",
    "    else:\n",
    "        return(\"no\")\n",
    "    \n",
    "   "
   ]
  },
  {
   "cell_type": "code",
   "execution_count": 115,
   "metadata": {},
   "outputs": [
    {
     "data": {
      "text/plain": [
       "'no'"
      ]
     },
     "execution_count": 115,
     "metadata": {},
     "output_type": "execute_result"
    }
   ],
   "source": [
    "ispronicone(8)"
   ]
  },
  {
   "cell_type": "code",
   "execution_count": 116,
   "metadata": {},
   "outputs": [
    {
     "name": "stdout",
     "output_type": "stream",
     "text": [
      "1 no\n",
      "2 yes\n",
      "3 no\n",
      "4 no\n",
      "5 no\n",
      "6 yes\n",
      "7 no\n",
      "8 no\n",
      "9 no\n",
      "10 no\n",
      "11 no\n",
      "12 yes\n",
      "13 no\n",
      "14 no\n",
      "15 no\n",
      "16 no\n",
      "17 no\n",
      "18 no\n",
      "19 no\n",
      "20 yes\n",
      "21 no\n",
      "22 no\n",
      "23 no\n",
      "24 no\n",
      "25 no\n",
      "26 no\n",
      "27 no\n",
      "28 no\n",
      "29 no\n",
      "30 yes\n",
      "31 no\n",
      "32 no\n",
      "33 no\n",
      "34 no\n",
      "35 no\n",
      "36 no\n",
      "37 no\n",
      "38 no\n",
      "39 no\n",
      "40 no\n",
      "41 no\n",
      "42 yes\n",
      "43 no\n",
      "44 no\n",
      "45 no\n",
      "46 no\n",
      "47 no\n",
      "48 no\n",
      "49 no\n",
      "50 no\n",
      "51 no\n",
      "52 no\n",
      "53 no\n",
      "54 no\n",
      "55 no\n",
      "56 yes\n",
      "57 no\n",
      "58 no\n",
      "59 no\n",
      "60 no\n",
      "61 no\n",
      "62 no\n",
      "63 no\n",
      "64 no\n",
      "65 no\n",
      "66 no\n",
      "67 no\n",
      "68 no\n",
      "69 no\n",
      "70 no\n",
      "71 no\n",
      "72 yes\n",
      "73 no\n",
      "74 no\n",
      "75 no\n",
      "76 no\n",
      "77 no\n",
      "78 no\n",
      "79 no\n",
      "80 no\n",
      "81 no\n",
      "82 no\n",
      "83 no\n",
      "84 no\n",
      "85 no\n",
      "86 no\n",
      "87 no\n",
      "88 no\n",
      "89 no\n",
      "90 yes\n",
      "91 no\n",
      "92 no\n",
      "93 no\n",
      "94 no\n",
      "95 no\n",
      "96 no\n",
      "97 no\n",
      "98 no\n",
      "99 no\n",
      "100 no\n"
     ]
    }
   ],
   "source": [
    "for i in range(1,101):\n",
    "    print(i,ispronicone(i))"
   ]
  },
  {
   "cell_type": "code",
   "execution_count": null,
   "metadata": {},
   "outputs": [],
   "source": []
  }
 ],
 "metadata": {
  "kernelspec": {
   "display_name": "Python 3",
   "language": "python",
   "name": "python3"
  },
  "language_info": {
   "codemirror_mode": {
    "name": "ipython",
    "version": 3
   },
   "file_extension": ".py",
   "mimetype": "text/x-python",
   "name": "python",
   "nbconvert_exporter": "python",
   "pygments_lexer": "ipython3",
   "version": "3.8.3"
  }
 },
 "nbformat": 4,
 "nbformat_minor": 4
}
