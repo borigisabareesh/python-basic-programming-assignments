{
 "cells": [
  {
   "cell_type": "markdown",
   "metadata": {},
   "source": [
    "<b>1.\tWrite a Python Program to Add Two Matrices?"
   ]
  },
  {
   "cell_type": "code",
   "execution_count": 1,
   "metadata": {},
   "outputs": [],
   "source": [
    "def matadd(a1,a2):\n",
    "    asum=[]\n",
    "    for i in range(len(a1)):\n",
    "        asum.append([])\n",
    "    for i in range(len(a1)):\n",
    "        for j in range(len(a1)):\n",
    "            asum[i].append(a1[i][j]+a2[i][j])\n",
    "    return(asum)"
   ]
  },
  {
   "cell_type": "code",
   "execution_count": 5,
   "metadata": {},
   "outputs": [
    {
     "name": "stdout",
     "output_type": "stream",
     "text": [
      "enter no of rows for first matrix=3\n",
      "enter no of columns for first matrix=3\n",
      "enter number1\n",
      "enter number2\n",
      "enter number3\n",
      "enter number4\n",
      "enter number5\n",
      "enter number6\n",
      "enter number7\n",
      "enter number8\n",
      "enter number9\n",
      "enter no of rows for second matrix=3\n",
      "enter no of columns for second matrix=3\n",
      "enter number=1\n",
      "enter number=2\n",
      "enter number=3\n",
      "enter number=4\n",
      "enter number=5\n",
      "enter number=6\n",
      "enter number=7\n",
      "enter number=8\n",
      "enter number=9\n",
      "first matrix= [[1, 2, 3], [4, 5, 6], [7, 8, 9]]\n",
      "second matrix= [[1, 2, 3], [4, 5, 6], [7, 8, 9]]\n",
      "matrix addition= [[2, 4, 6], [8, 10, 12], [14, 16, 18]]\n"
     ]
    }
   ],
   "source": [
    "r1=int(input(\"enter no of rows for first matrix=\"))\n",
    "c1=int(input(\"enter no of columns for first matrix=\"))\n",
    "m1=[]\n",
    "for i in range(r1):\n",
    "    m1.append([])\n",
    "for i in range(r1):\n",
    "    for j in range(c1):\n",
    "        m1[i].append(int(input(\"enter number\")))\n",
    "r2=int(input(\"enter no of rows for second matrix=\"))\n",
    "c2=int(input(\"enter no of columns for second matrix=\"))\n",
    "m2=[]\n",
    "for i in range(r2):\n",
    "    m2.append([])\n",
    "for i in range(r2):\n",
    "    for j in range(c2):\n",
    "        m2[i].append(int(input(\"enter number=\")))\n",
    "print(\"first matrix=\",m1)\n",
    "print(\"second matrix=\",m2)\n",
    "msum=[]\n",
    "if r1!=r2 and c1!=c2:\n",
    "    print(\"matrix addition is not possible\")\n",
    "else:\n",
    "    msum=matadd(m1,m2)\n",
    "print(\"matrix addition=\",msum)\n"
   ]
  },
  {
   "cell_type": "markdown",
   "metadata": {},
   "source": [
    "<b>2.\tWrite a Python Program to Multiply Two Matrices?"
   ]
  },
  {
   "cell_type": "code",
   "execution_count": 23,
   "metadata": {},
   "outputs": [],
   "source": [
    "def mtmul(a,b):\n",
    "    mtmul=[]\n",
    "    for i in range(len(a)):\n",
    "        mtmul.append([])\n",
    "    for i in range(len(a)):\n",
    "    \n",
    "        for j in range(len(a[0])):\n",
    "        \n",
    "            mtmul[i].append(0)\n",
    "    for i in range(len(a)):\n",
    "        for j in range(len(b[0])):\n",
    "             for k in range(len(b)):\n",
    "                    mtmul[i][j] += a[i][k] * b[k][j]\n",
    "  \n",
    "    return(mtmul)\n",
    "        "
   ]
  },
  {
   "cell_type": "code",
   "execution_count": 25,
   "metadata": {},
   "outputs": [
    {
     "name": "stdout",
     "output_type": "stream",
     "text": [
      "enter no of rows for first matrix=2\n",
      "enter no of columns for first matrix=2\n",
      "enter number1\n",
      "enter number2\n",
      "enter number1\n",
      "enter number2\n",
      "enter no of rows for second matrix=2\n",
      "enter no of columns for second matrix=2\n",
      "enter number=1\n",
      "enter number=2\n",
      "enter number=1\n",
      "enter number=2\n",
      "mat mult is possible\n",
      "mul of matrices = [[3, 6], [3, 6]]\n"
     ]
    }
   ],
   "source": [
    "r1=int(input(\"enter no of rows for first matrix=\"))\n",
    "c1=int(input(\"enter no of columns for first matrix=\"))\n",
    "m1=[]\n",
    "for i in range(r1):\n",
    "    m1.append([])\n",
    "for i in range(r1):\n",
    "    for j in range(c1):\n",
    "        m1[i].append(int(input(\"enter number\")))\n",
    "r2=int(input(\"enter no of rows for second matrix=\"))\n",
    "c2=int(input(\"enter no of columns for second matrix=\"))\n",
    "m2=[]\n",
    "for i in range(r2):\n",
    "    m2.append([])\n",
    "for i in range(r2):\n",
    "    for j in range(c2):\n",
    "        m2[i].append(int(input(\"enter number=\")))\n",
    "\n",
    "if c1==r2:\n",
    "    print(\"mat mult is possible\")\n",
    "    print(\"mul of matrices =\",mtmul(m1,m2))\n",
    "else:\n",
    "    print(\"mat mult is not possible\")"
   ]
  },
  {
   "cell_type": "markdown",
   "metadata": {},
   "source": [
    "<b>3.\tWrite a Python Program to Transpose a Matrix?"
   ]
  },
  {
   "cell_type": "code",
   "execution_count": 11,
   "metadata": {},
   "outputs": [
    {
     "name": "stdout",
     "output_type": "stream",
     "text": [
      "enter no of rows for first matrix=3\n",
      "enter no of columns for first matrix=3\n",
      "enter number1\n",
      "enter number2\n",
      "enter number3\n",
      "enter number4\n",
      "enter number5\n",
      "enter number6\n",
      "enter number7\n",
      "enter number8\n",
      "enter number9\n",
      "orginal matrix= [[1, 2, 3], [4, 5, 6], [7, 8, 9]]\n",
      "transpose of a matrix= [[1, 4, 7], [2, 5, 8], [3, 6, 9]]\n"
     ]
    }
   ],
   "source": [
    "r1=int(input(\"enter no of rows for first matrix=\"))\n",
    "c1=int(input(\"enter no of columns for first matrix=\"))\n",
    "m1=[]\n",
    "for i in range(r1):\n",
    "    m1.append([])\n",
    "for i in range(r1):\n",
    "    for j in range(c1):\n",
    "        m1[i].append(int(input(\"enter number\")))\n",
    "print(\"orginal matrix=\",m1)\n",
    "len(m1)\n",
    "mt=[]\n",
    "for i in range(len(m1)):\n",
    "    mt.append([])\n",
    "for i in range(r1):\n",
    "    for j in range(c1):\n",
    "        mt[i].append(m1[j][i])\n",
    "        \n",
    "print(\"transpose of a matrix=\",mt)\n"
   ]
  },
  {
   "cell_type": "markdown",
   "metadata": {},
   "source": [
    "<b>4.\tWrite a Python Program to Sort Words in Alphabetic Order?"
   ]
  },
  {
   "cell_type": "code",
   "execution_count": 32,
   "metadata": {},
   "outputs": [
    {
     "name": "stdout",
     "output_type": "stream",
     "text": [
      "enter words=tan tab tbe tce\n",
      "['tab', 'tan', 'tbe', 'tce']\n"
     ]
    }
   ],
   "source": [
    "n=input(\"enter words=\").split()\n",
    "n.sort()\n",
    "print(n)\n",
    "        \n",
    "           \n",
    "            \n",
    "            \n",
    "                \n",
    "    \n",
    "\n",
    "        \n",
    "    \n",
    "    "
   ]
  },
  {
   "cell_type": "markdown",
   "metadata": {},
   "source": [
    "<b>5.\tWrite a Python Program to Remove Punctuation From a String?"
   ]
  },
  {
   "cell_type": "code",
   "execution_count": 37,
   "metadata": {},
   "outputs": [
    {
     "name": "stdout",
     "output_type": "stream",
     "text": [
      "enter string with punctations\"you are simply super'b and awesome!!\n",
      "you are simply superb and awesome\n"
     ]
    }
   ],
   "source": [
    "puncts = '''!()-[]{};:'\"\\,<>./?@#$%^&*_~'''\n",
    "my_sr = input(\"enter string with punctations\")\n",
    "no_punct = \"\"\n",
    "for i in my_sr:\n",
    "    if i not in puncts:\n",
    "         no_punct = no_punct + i\n",
    "print(no_punct)\n"
   ]
  },
  {
   "cell_type": "code",
   "execution_count": null,
   "metadata": {},
   "outputs": [],
   "source": []
  }
 ],
 "metadata": {
  "kernelspec": {
   "display_name": "Python 3",
   "language": "python",
   "name": "python3"
  },
  "language_info": {
   "codemirror_mode": {
    "name": "ipython",
    "version": 3
   },
   "file_extension": ".py",
   "mimetype": "text/x-python",
   "name": "python",
   "nbconvert_exporter": "python",
   "pygments_lexer": "ipython3",
   "version": "3.8.3"
  }
 },
 "nbformat": 4,
 "nbformat_minor": 4
}
